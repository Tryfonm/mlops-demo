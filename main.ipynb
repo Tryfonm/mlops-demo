{
 "cells": [
  {
   "cell_type": "code",
   "execution_count": 6,
   "id": "2ca9c7bc-21d6-4f39-8b34-d0a350a0e098",
   "metadata": {},
   "outputs": [],
   "source": [
    "import pycaret\n",
    "from pycaret.regression import * \n",
    "import pandas as pd\n",
    "from pycaret.datasets import get_data\n",
    "import mlflow\n",
    "from mlflow.tracking import MlflowClient\n",
    "\n",
    "df = get_data('diamond')\n",
    "df.head(2)\n",
    "\n",
    "\n",
    "dataset = pd.read_csv('./data/diamond.csv')\n",
    "train_data = dataset.sample(frac=.9).reset_index(drop=True)\n",
    "test_data = dataset.drop(train_data.index).reset_index(drop=True)\n",
    "\n",
    "\n",
    "exp_reg = setup(data=train_data, target='Price', normalize=True, log_experiment=True, experiment_name='diamond', session_id=1)"
   ]
  },
  {
   "cell_type": "code",
   "execution_count": 11,
   "id": "b2192bfd-a2a4-4455-a142-2c9c86ddc527",
   "metadata": {},
   "outputs": [],
   "source": [
    "client = MlflowClient()\n",
    "experiment = client.get_experiment_by_name('diamond')\n",
    "client.set_experiment_tag(experiment.experiment_id, key='some-key', value='some-value')\n",
    "\n",
    "compare_models()\n",
    "\n",
    "et = create_model('et', fold=5, round=3)\n",
    "tuned_et = tune_model(et, fold=5, n_iter=100)\n",
    "\n",
    "plot_model(tuned_et, plot='feature')\n",
    "plot_model(tuned_et, plot='error')\n",
    "\n",
    "predict_model(tuned_et)\n",
    "final_et = finalize_model(tuned_et)"
   ]
  }
 ],
 "metadata": {
  "kernelspec": {
   "display_name": "Python 3 (ipykernel)",
   "language": "python",
   "name": "python3"
  },
  "language_info": {
   "codemirror_mode": {
    "name": "ipython",
    "version": 3
   },
   "file_extension": ".py",
   "mimetype": "text/x-python",
   "name": "python",
   "nbconvert_exporter": "python",
   "pygments_lexer": "ipython3",
   "version": "3.10.6"
  }
 },
 "nbformat": 4,
 "nbformat_minor": 5
}
